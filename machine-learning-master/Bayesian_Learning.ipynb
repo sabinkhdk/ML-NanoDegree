{
 "cells": [
  {
   "cell_type": "markdown",
   "metadata": {},
   "source": [
    "# Bayesian Learning\n",
    "\n",
    "* Learn the **BEST HYPOTHESIS (H)** given Data & some Domain Knowledge\n",
    "* Learn the **MOST PROBABLE H** given Data & some Domain Knowledge\n",
    "* BEST H ~ MOST PROBABLE H ? --> Pr(h|D) h: hypothesis, D - data\n",
    "\n",
    "## Bayes Rule\n",
    "* $$Pr(h|D)=\\frac{Pr(D|h) * Pr(h)}{Pr(D)} $$\n",
    "\n",
    "* Pr(D) : Probability of Data  ( Prior on data)\n",
    "* Pr(h) : Probability of hypothesis (Prior on hypothesis)\n",
    "\n",
    "##### Chain Rule \n",
    "* Pr(a,b) = Pr(a|b)Pr(b)\n",
    "* Pr(a,b) = Pr(b|a)Pr(a)"
   ]
  },
  {
   "cell_type": "markdown",
   "metadata": {},
   "source": [
    "#### Quiz\n",
    "* A man goes to see a doctor. She gives him a lab test. The test returns correct +ve 98% of the time and correct -ve 97% of the time. The test looks for disease S and 0.8% of population has it. The test is +ve. Does he have disease S?\n",
    "    * Pr(S|+) = Pr(+|S)Pr(S)/Pr(+) = 0.98x0.008/Pr(+) = 0.00784/Pr(+)\n",
    "    * Pr(notS|+) = Pr(+|notS)Pr(notS)/Pr(+) = (1-0.97)x(1-0.008)/Pr(+) = 0.02976\n",
    "\n",
    "* Pr(notS|+) > Pr(S|+): thus **patient probably does not have disease S**"
   ]
  },
  {
   "cell_type": "markdown",
   "metadata": {},
   "source": [
    "## Bayesian Learning\n",
    "* for each h --> H\n",
    "    * Calculate Pr(h|D) = P(D|h)P(h)\n",
    "* Output\n",
    "    * h_map = argmax_h Pr(h|D)      map: max a posteriori\n",
    "    * h_ml = argmax_h Pr(D|h)       ml: maximum likelihood\n",
    "    \n",
    "#### Bayesian learning in action\n",
    "1. Given {(xi, di)} # example of c/noise free\n",
    "2. C --> H\n",
    "3. uniform prior\n",
    "\n",
    "    * Pr(h) = 1/|H| because it is uniform\n",
    "    * Pr(D|h) = {1 if di=h(xi) if xi,di --> D: 0 otherwise}\n",
    "    * Pr(D) = Sum P(D|h)P(h) = Sum 1. 1/|H| = |VS|/|H|\n",
    "    * Pr(h|D) = 1.1/|H| / |VS|/|H| = 1/|VS|"
   ]
  },
  {
   "cell_type": "markdown",
   "metadata": {},
   "source": [
    "# Bayesian Inference\n",
    "* Representing and reasoning with probabilities\n",
    "* Bayesian networks\n",
    "\n",
    "* Joint Distribution\n",
    "    * \n"
   ]
  }
 ],
 "metadata": {
  "kernelspec": {
   "display_name": "Python 2",
   "language": "python",
   "name": "python2"
  },
  "language_info": {
   "codemirror_mode": {
    "name": "ipython",
    "version": 2
   },
   "file_extension": ".py",
   "mimetype": "text/x-python",
   "name": "python",
   "nbconvert_exporter": "python",
   "pygments_lexer": "ipython2",
   "version": "2.7.12"
  }
 },
 "nbformat": 4,
 "nbformat_minor": 1
}
