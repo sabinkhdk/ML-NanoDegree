{
 "cells": [
  {
   "cell_type": "markdown",
   "metadata": {},
   "source": [
    "# Instance Based Learning\n",
    "\n",
    "* Put data in database\n",
    "* Use lookup in order to get data\n",
    "    * Advantage\n",
    "        * simple, fast\n",
    "    * Disadvantage\n",
    "        * no generalization\n",
    "        * Overfitting"
   ]
  },
  {
   "cell_type": "markdown",
   "metadata": {},
   "source": [
    "## K-NN\n",
    "* Given : Training data D = {x_i, y_i}\n",
    "          Distance metric d(q,x)\n",
    "          Number of neighbors (k)\n",
    "          Query point (q)\n",
    "    * NN = {i: d(q,x_i) k smallest}\n",
    "* Return \n",
    "    * Classification : Vote of y_i of NN (plurarity)\n",
    "    * Regression : mean of the y_i of NN\n",
    "    \n"
   ]
  },
  {
   "cell_type": "markdown",
   "metadata": {},
   "source": [
    "### K-NN bias\n",
    "\n",
    "* Preference Bias\n",
    "    * Locality : near points are similar\n",
    "    * Smoothness : averaging\n",
    "    * All Features matter equally"
   ]
  },
  {
   "cell_type": "markdown",
   "metadata": {},
   "source": [
    "###  Curse of Dimensionality\n",
    "* As N of feautures grow, the amount of data we need to generalize grows exponentially\n",
    "\n",
    "### Important parameters to consider\n",
    "* distance metrics (Euclidean, Manhattan)\n",
    "* Number of neighbors"
   ]
  },
  {
   "cell_type": "code",
   "execution_count": null,
   "metadata": {
    "collapsed": true
   },
   "outputs": [],
   "source": []
  }
 ],
 "metadata": {
  "kernelspec": {
   "display_name": "Python 2",
   "language": "python",
   "name": "python2"
  },
  "language_info": {
   "codemirror_mode": {
    "name": "ipython",
    "version": 2
   },
   "file_extension": ".py",
   "mimetype": "text/x-python",
   "name": "python",
   "nbconvert_exporter": "python",
   "pygments_lexer": "ipython2",
   "version": "2.7.12"
  }
 },
 "nbformat": 4,
 "nbformat_minor": 1
}
