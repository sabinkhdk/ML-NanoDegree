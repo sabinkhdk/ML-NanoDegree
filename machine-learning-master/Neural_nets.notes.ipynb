{
 "cells": [
  {
   "cell_type": "markdown",
   "metadata": {},
   "source": [
    "# Artificial Neural Networks"
   ]
  },
  {
   "cell_type": "markdown",
   "metadata": {},
   "source": [
    "### Neural Networks : \n",
    "** Concept comes from brain neurons **\n",
    "* Neurons\n",
    "    * Cell body (Information processing: generate information (impulse))\n",
    "    * Axons (Wire: Information travel)\n",
    "    * synapse (Excitation to other neurons)\n",
    "    \n",
    "** * The human brain network in very complex. There are almost billion neurons. * **"
   ]
  },
  {
   "cell_type": "markdown",
   "metadata": {},
   "source": [
    "Types of NN\n",
    "\n",
    "* Perceptrons\n",
    "    * Linear functions dividing class (one class vs other)\n",
    "        * e.g. AND, OR and NOT gate\n",
    "    * Preceptron Training : \n",
    "        * Preceptron Rule --> Single Unit\n",
    "        * y = target, y_hat = output, eta = learning rate, X = input\n",
    "        * Works well only for linearly separable data\n",
    "    * Gradient Descent\n",
    "        * Also works for data not linearly separable\n",
    "        * Robust, converge to local optimum"
   ]
  },
  {
   "cell_type": "markdown",
   "metadata": {},
   "source": [
    "## Graphical Example\n",
    "<img src = 'perceptron_example.gif'>\n",
    "source: http://www.doc.ic.ac.uk/~sgc/teaching/pre2012/v231/lecture12.html"
   ]
  },
  {
   "cell_type": "markdown",
   "metadata": {},
   "source": [
    "### Some notes\n",
    "Sigmoid Functions"
   ]
  },
  {
   "cell_type": "markdown",
   "metadata": {},
   "source": [
    "$$\\sigma(a) = \\frac{1}{1+\\exp(-a)}$$"
   ]
  },
  {
   "cell_type": "code",
   "execution_count": 6,
   "metadata": {
    "collapsed": false
   },
   "outputs": [
    {
     "data": {
      "text/plain": [
       "(0.0, 10.0)"
      ]
     },
     "execution_count": 6,
     "metadata": {},
     "output_type": "execute_result"
    },
    {
     "data": {
      "image/png": "[encoded data removed]",
      "text/plain": [
       "<matplotlib.figure.Figure at 0x104ab0d90>"
      ]
     },
     "metadata": {},
     "output_type": "display_data"
    }
   ],
   "source": [
    "%matplotlib inline\n",
    "import numpy as np\n",
    "import matplotlib.pyplot as plt\n",
    "\n",
    "def sigmoid(x,a,b):\n",
    "    #sigmoid function with parameters a = center; b = width\n",
    "    s= 1/(1+np.exp(-(x-a)/b))\n",
    "    return 100.0*(s-min(s))/(max(s)-min(s)) # normalize sigmoid to 0-100\n",
    "\n",
    "x = np.linspace(0,10,256)\n",
    "sigm = sigmoid(x, a=5, b=1)\n",
    "fig = plt.figure(figsize=(10,10))\n",
    "ax1 = fig.add_subplot(2, 1, 1)\n",
    "ax1.set_xticks([])\n",
    "ax1.set_xticks([])\n",
    "plt.plot(x,sigm,lw=2,color='black')\n",
    "plt.xlim(x.min(), x.max())\n"
   ]
  },
  {
   "cell_type": "markdown",
   "metadata": {},
   "source": [
    "**Optimization of weights: **\n",
    "* momentum in gradients\n",
    "* higher order derivatives\n",
    "* randomized optimization\n",
    "* penalty for complexity\n"
   ]
  },
  {
   "cell_type": "markdown",
   "metadata": {},
   "source": [
    "Restriction Bias:\n",
    "* Representational power\n",
    "* Set of hypothesis we will consider\n",
    "* perceptron: half space\n",
    "* sigmoids: much more complex and not much restrictions\n",
    "\n",
    "* Boolean : networks of threshold-like units\n",
    "* continuous : \"connected\" and no jumps - can be modeled with hidden layers\n",
    "* Arbitrary: can be represented with two hidden layers\n",
    "\n",
    "** *DANGER OF OVERFITTING!!* **\n",
    "* Use cross validation to decide hidden layers and nodes and when to **STOP**"
   ]
  },
  {
   "cell_type": "markdown",
   "metadata": {
    "collapsed": true
   },
   "source": [
    "Preference bias:\n",
    "* Algorithm's selection of one representation over another.\n",
    "* What Algorithm?\n",
    "    * Gradient descent\n",
    "    * Initial weights\n",
    "        * Start with random values\n",
    "            * local minima variability\n",
    "            * low complexity\n",
    "            * Simpler explanations\n",
    "            \n",
    "** Occam's razor: **\n",
    "    * Entities should not be multiplied unnecessarily (make more complex)"
   ]
  },
  {
   "cell_type": "markdown",
   "metadata": {},
   "source": [
    "### Summary\n",
    "* Perceptrons - thresholds unit\n",
    "* Networks can produce any Boolean function\n",
    "* Perceptron rule - back propagation and gradient descent\n",
    "* preference/restriction bias of neural networks"
   ]
  },
  {
   "cell_type": "code",
   "execution_count": null,
   "metadata": {
    "collapsed": true
   },
   "outputs": [],
   "source": []
  }
 ],
 "metadata": {
  "kernelspec": {
   "display_name": "Python 2",
   "language": "python",
   "name": "python2"
  },
  "language_info": {
   "codemirror_mode": {
    "name": "ipython",
    "version": 2
   },
   "file_extension": ".py",
   "mimetype": "text/x-python",
   "name": "python",
   "nbconvert_exporter": "python",
   "pygments_lexer": "ipython2",
   "version": "2.7.12"
  }
 },
 "nbformat": 4,
 "nbformat_minor": 1
}
