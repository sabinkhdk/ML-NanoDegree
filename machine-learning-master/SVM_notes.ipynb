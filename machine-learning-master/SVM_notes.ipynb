{
 "cells": [
  {
   "cell_type": "markdown",
   "metadata": {},
   "source": [
    "# Support Vector machine (SVM)"
   ]
  },
  {
   "cell_type": "markdown",
   "metadata": {
    "collapsed": true
   },
   "source": [
    "* Optimal decision boundary that maximizes the margin.\n",
    "    * i.e. maximize 2/||W|| where W is the parameters of the hyperplane\n",
    "        * while classifying everything correctly\n",
    "\n",
    "<img src = 'SVM_img.png'>\n",
    "\n",
    "source: http://docs.opencv.org/2.4/doc/tutorials/ml/introduction_to_svm/introduction_to_svm.html\n",
    "\n",
    "[more info](https://en.wikipedia.org/wiki/Support_vector_machine)\n",
    "\n",
    "[scikit-learn](http://scikit-learn.org/stable/modules/svm.html) implementation "
   ]
  },
  {
   "cell_type": "markdown",
   "metadata": {},
   "source": [
    "#### Kernel Trick\n",
    "* Can handle non-linear data using kernel methods\n",
    "* Functions that maps non-linear data to higher dimensions\n",
    "    * e.g. Kernel (K)$$K = (X^TY + C)^P$$\n",
    "* Radial Basis Function\n",
    "    * $$K = e^{\\frac{-||X-Y||^2}{2\\sigma^2}}$$"
   ]
  },
  {
   "cell_type": "markdown",
   "metadata": {},
   "source": [
    "Notes: \n",
    "    * margins ~ genralization and overfitting\n",
    "    * bigger the margin - better"
   ]
  },
  {
   "cell_type": "markdown",
   "metadata": {
    "collapsed": true
   },
   "source": [
    "### Parameters to consider for tuning:\n",
    "* Kernel : e.g. linear, rbf\n",
    "* Gamma:\n",
    "    * Parameter of Gaussian Kernel\n",
    "* Cost (C)\n",
    "    * Control for misclassification. \n",
    "    * Small C ('soft margin'): Cost of misclassification low\n",
    "    * Larger C ('Hard margin'): Cost of misclassification high [large C can lead to overfitting of data]"
   ]
  },
  {
   "cell_type": "code",
   "execution_count": null,
   "metadata": {
    "collapsed": true
   },
   "outputs": [],
   "source": []
  }
 ],
 "metadata": {
  "kernelspec": {
   "display_name": "Python 2",
   "language": "python",
   "name": "python2"
  },
  "language_info": {
   "codemirror_mode": {
    "name": "ipython",
    "version": 2
   },
   "file_extension": ".py",
   "mimetype": "text/x-python",
   "name": "python",
   "nbconvert_exporter": "python",
   "pygments_lexer": "ipython2",
   "version": "2.7.12"
  }
 },
 "nbformat": 4,
 "nbformat_minor": 1
}
